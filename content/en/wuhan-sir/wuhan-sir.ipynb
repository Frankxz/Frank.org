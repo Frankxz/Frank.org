{
 "cells": [
  {
   "cell_type": "markdown",
   "metadata": {},
   "source": [
    "# When Will Coronavirous (COVID-19) End?\n",
    "\n",
    "by [Frank Zheng](http://frankzheng.me) \n",
    "\n",
    "*This notebook is licensed under the MIT License. If you use the code or data visualization designs contained within this notebook, it would be greatly appreciated if proper attribution is given back to this notebook and/or myself. Thanks! :)*\n",
    "\n",
    "Coronavirus Disease 2019 ([COVID-19](https://www.who.int/emergencies/diseases/novel-coronavirus-2019)) was identified as the cause of a cluster of pneumonia cases in Wuhan, a city in the Hubei Province of China, at the end of 2019. It subsequently spread throughout China and elsewhere, becoming a global health emergency. In February 2020, the World Health Organization (WHO) designated the disease COVID-19, which stands for coronavirus disease 2019. \n",
    "\n",
    "This post will use current data with SIR model and (try to) forcast when the number of coronavirous infected patients reaches its peak and eventually declines. "
   ]
  },
  {
   "cell_type": "markdown",
   "metadata": {},
   "source": [
    "## SIR and SIRS Model\n",
    "\n",
    "In 1927, the SIR model for sperad of disease was first propsed in in a collection of three articles in the Proceedings of the Royal Society by [Anderson Gray](https://en.wikipedia.org/wiki/Anderson_Gray_McKendrick) McKendrick and [William Ogilvy Kermack](https://en.wikipedia.org/wiki/William_Ogilvy_Kermack); the resulting theory is known as [Kermack–McKendrick theory](https://en.wikipedia.org/wiki/Kermack%E2%80%93McKendrick_theory); now considered a subclass of a more general theory known as [compartmental models](https://en.wikipedia.org/wiki/Compartmental_models_in_epidemiology) in epidemiology. The three original articles were republished in 1991, in a special issue of the Bulletin of [Mathematical Biology](https://link.springer.com/journal/11538/53/1/page/1).\n",
    "\n",
    "SIR model stands for a (suspectible - infectious - recovered) model, while SIRS represents a (suspectible - infectious - recovered - susceptible) model. The main difference between these two is the latter does not confer lifelong immunity, so individual may become susceptible again. \n",
    "\n",
    "The SIR/SIRS diagram from [IDM](https://idmod.org/docs/hiv/model-si.html) below shows how individuals move through each compartment in the model. "
   ]
  },
  {
   "cell_type": "markdown",
   "metadata": {},
   "source": [
    "![Image](https://idmod.org/docs/hiv/_images/SIR-SIRS.png)"
   ]
  },
  {
   "cell_type": "markdown",
   "metadata": {},
   "source": [
    "- $\\beta$, the transmission rate, controls the rate of spread which represents the probability of transmitting disease between a susceptible and an infectious individual. \n",
    "\n",
    "- $\\gamma$ = 1/D, recovery rate, is determined by the average duration, D, of infection. \n",
    "\n",
    "- $\\xi$, only used for the SIRS model, is the rate which recovered individuals return to the susceptible statue due to loss of immunity.\n",
    "\n",
    "Besides the immunity issue, SIR model also considers the population changes. If the course of the infection is short (emergent outbreak) compared with the lifetime of an individual and the disease is non-fatal, vital dynamics (birth and death) can be ignored. SIR model with vital dynamics considers new births that can provide more susceptible individuals to the population, sustaining an epidemic or allowing new introductions to spread throughout the population. In our COVID-19 case, becuase the disease is such a outbreak, it's not likely to be fatal (3.4% death rate reported by [WHO](https://www.who.int/dg/speeches/detail/who-director-general-s-opening-remarks-at-the-media-briefing-on-covid-19---3-march-2020)), and most patients who recoved from conronavirus gain immunity, therefore, SIR model without vital dynamics is more situable. \n",
    "\n",
    "In the deterministic form, the SIR model can be written as the following there ordinary differential equations (ODE), parameterized by two growth factors β and γ:\n",
    "\n",
    "$$\\frac{dS}{dt} = - \\frac{\\beta S I}{N}$$\n",
    "\n",
    "$$\\frac{dI}{dt} = \\frac{\\beta S I}{N} - \\gamma I$$\n",
    "\n",
    "$$\\frac{dR}{dt} = \\gamma I$$\n",
    "\n",
    "where N is the population, and since each of S, I and R represent the number of people in mutually exclusive sets, we should have \n",
    "\n",
    "$$S+I+R=N$$\n",
    "\n",
    "Note that the right hand sides of the equations sum to zero, hence\n",
    "\n",
    "$$\\frac{dS}{dt} + \\frac{dI}{dt} + \\frac{dR}{dt} = \\frac{dN}{dt}=0$$\n",
    "\n",
    "which indicates that the population is constant.\n",
    "\n",
    "In a closed population with no vital dynamics, an epidemic will eventually die out due to an insufficient number of susceptible individuals to sustain the disease. Infected individuals who are added later will not start another epidemic due to the lifelong immunity of the existing population.\n",
    "\n",
    "A discrete model can be derived from the above equations for the evolution of the disease.\n",
    "\n",
    "$${S}_{n+1} = S_n − \\frac{\\beta}{N} S_n I_n$$\n",
    "\n",
    "$${I}_{n+1} = I_n + \\frac{\\beta}{N} S_n I_n - \\gamma I_n$$\n",
    "\n",
    "$${R}_{n+1} = R_n + \\gamma I_n$$\n",
    "\n",
    "\n",
    "- New infecteds, $I_{n+1}$, result from contact between the susceptibles, $S_n$, and infecteds, $I_n$, with rate of infection $\\frac{\\beta}{N}$.\n",
    "- Infecteds are cured at a rate proportional to the number of infecteds, $\\gamma I_n$, which become recovered, $R_n$\n",
    "- The term $\\frac{\\beta}{N} S_n$ represents the proportion of contacts by an infected individual that result in the infection of a susceptible individual.\n",
    "- The ratio $1/\\gamma$ is the average length of the infectious period of the disease.\n",
    "\n",
    "While these may look very confusing, once explained they make a lot of sense. \n",
    "\n",
    "For example, ${S}_{n+1} = S_n − \\frac{\\beta}{N} S_n I_n$\n",
    "the equation simply means that the number of susceptible people today(${S}_{n+1}$) would be the number of susceptible people yesterday $S_n$ deduct the number of people that got infected yesterday and today. We would calculate the number of people infected yesterday by multiplying by the rate of infection. \n",
    "\n",
    "Similarly, ${I}_{n+1} = I_n + \\frac{\\beta}{N} S_n I_n - \\gamma I_n$ this simply means that the number of people that number of people infected today would be the number of people that were infected yesterday plus the number of people that got infected yesterday and today, then deduct the number of people that recovered yesterday. The final number is the number of people in the infected category today. \n",
    "\n",
    "Lastly, ${R}_{n+1} = R_n + \\gamma I_n$ this equation simply means that the number of people recovered today are the number of people that were recovered yesterday as well as the number of infected people that recovered today.\n",
    "\n",
    "This model is clearly not applicable to all possible epidemics: there may be births and deaths, people may be re-infected, and so on. More complex models take these and other factors into account. However, based on we've learnt from coronavirous so far, I believe the **SIR model without vital dynamics** is the simplist but adequate model to use."
   ]
  },
  {
   "cell_type": "markdown",
   "metadata": {},
   "source": [
    "## Load packages"
   ]
  },
  {
   "cell_type": "code",
   "execution_count": 9,
   "metadata": {},
   "outputs": [],
   "source": [
    "import numpy as np\n",
    "import matplotlib.pyplot as plt\n",
    "import math"
   ]
  },
  {
   "cell_type": "markdown",
   "metadata": {},
   "source": [
    "## Setup Parameters for SIR Model\n",
    "Use current data to find {\\gamma}(recovery rate) and {\\beta}(transmission rate). \n",
    "On 01/24/2020, Wuhan has 258 cumulative total confirmed cases, 25 recovered case and 60 new confirmed cases."
   ]
  },
  {
   "cell_type": "code",
   "execution_count": 18,
   "metadata": {},
   "outputs": [],
   "source": [
    "### based on the data until 01/24/2020 for Wuhan\n",
    "# infected\n",
    "inf = 233\n",
    "# recovered\n",
    "rec = 25\n",
    "# recovery rate\n",
    "gamma = 25.0/258\n",
    "# transmission rate\n",
    "beta = (60+25)/(258-25)\n",
    "# population of Wuhan\n",
    "n = 1100 * 10000"
   ]
  },
  {
   "cell_type": "markdown",
   "metadata": {},
   "source": [
    "## Build SIR Model"
   ]
  },
  {
   "cell_type": "code",
   "execution_count": 30,
   "metadata": {},
   "outputs": [],
   "source": [
    "class SIR: \n",
    "    def __init__(self, inff, recc, suss, time): \n",
    "        self.inff = inff\n",
    "        self.recc = recc\n",
    "        self.suss = suss\n",
    "        self.time = time\n",
    "\n",
    "def sir(beta, gamma, n, inf, rec):\n",
    "    sus = n - inf - rec\n",
    "    t = 1\n",
    "    inff = []\n",
    "    recc = []\n",
    "    suss = []\n",
    "\n",
    "    time = []\n",
    "    inff.append(inf)\n",
    "    recc.append(rec)\n",
    "    suss.append(sus)\n",
    "    time.append(t)\n",
    "\n",
    "    while True:\n",
    "        if t > 200:\n",
    "            break\n",
    "        t += 1\n",
    "        a = inf\n",
    "        b = rec\n",
    "        c = sus\n",
    "        rec = b + gamma * a\n",
    "        inf = (a + beta * a * c / n - gamma * a)\n",
    "        sus = n - rec - inf\n",
    "\n",
    "        inff.append(round(inf))\n",
    "        recc.append(rec)\n",
    "        suss.append(round(sus))\n",
    "        time.append(t)\n",
    "    return SIR(inff, recc, suss, time)"
   ]
  },
  {
   "cell_type": "markdown",
   "metadata": {},
   "source": [
    "## Plot results"
   ]
  },
  {
   "cell_type": "code",
   "execution_count": 64,
   "metadata": {},
   "outputs": [
    {
     "data": {
      "image/png": "[encoded data removed]",
      "text/plain": [
       "<Figure size 864x288 with 1 Axes>"
      ]
     },
     "metadata": {
      "needs_background": "light"
     },
     "output_type": "display_data"
    }
   ],
   "source": [
    "p = sir(beta, gamma, n, inf, rec)\n",
    "fig = plt.figure(figsize=(12,4))\n",
    "plt.plot(p.time, p.suss, 'y-', label = 'Suspectible')\n",
    "plt.plot(p.time, p.inff, 'r-', label = 'Infected')\n",
    "plt.plot(p.time, p.recc, 'g-', label = 'Recovered')\n",
    "plt.axvline(p.time[p.inff.index(max(p.inff))], ls = '--')\n",
    "plt.title('SIR Model Prediction on COVID-19 in Wuhan \\n with 01/24/2020 as Day 1')\n",
    "plt.xlabel('Time(day) \\n by Frank Zheng — frankzheng.me')\n",
    "plt.ylabel('Population')\n",
    "plt.xlim(0, 201)\n",
    "plt.legend(loc = 'best')\n",
    "plt.show()"
   ]
  },
  {
   "cell_type": "markdown",
   "metadata": {},
   "source": [
    "## Analysis \n",
    "The SIR model considered 01/24/2020 the day Wuhan shutdown as day 1. So the number of infected patients reaches its peak 50 days after the city lockdown, 03/14/2020.\n",
    "\n",
    "The yellow line (the number of people who have not yet been infected) starts to rapidly decline around the 25th day – indicates the disease is very contagious, with pretty much every susceptible person being infected by day 75. The line for a less infectious disease would slope more gently to the right.\n",
    "\n",
    "The red line (the daily number of infected people) is essentially the epi-curve for the disease. It also changes rapidly to its maximum on day 50, and then falls slowly until about day 100 when nearly everyone has recovered. The reason that the increase of infected people stops at day 50 and then falls is that by then almost every susceptible person has been infected. Where the blue and red lines cross at about day 45 – is the first day when more people are in the infected category than the susceptible one."
   ]
  },
  {
   "cell_type": "markdown",
   "metadata": {},
   "source": [
    "## The MIT License (MIT)\n",
    "\n",
    "Copyright (c) 2020 Frank Zheng\n",
    "\n",
    "Permission is hereby granted, free of charge, to any person obtaining a copy\n",
    "of this software and associated documentation files (the \"Software\"), to deal\n",
    "in the Software without restriction, including without limitation the rights\n",
    "to use, copy, modify, merge, publish, distribute, sublicense, and/or sell\n",
    "copies of the Software, and to permit persons to whom the Software is\n",
    "furnished to do so, subject to the following conditions:\n",
    "\n",
    "The above copyright notice and this permission notice shall be included in all\n",
    "copies or substantial portions of the Software.\n",
    "\n",
    "THE SOFTWARE IS PROVIDED \"AS IS\", WITHOUT WARRANTY OF ANY KIND, EXPRESS OR\n",
    "IMPLIED, INCLUDING BUT NOT LIMITED TO THE WARRANTIES OF MERCHANTABILITY,\n",
    "FITNESS FOR A PARTICULAR PURPOSE AND NONINFRINGEMENT. IN NO EVENT SHALL THE\n",
    "AUTHORS OR COPYRIGHT HOLDERS BE LIABLE FOR ANY CLAIM, DAMAGES OR OTHER\n",
    "LIABILITY, WHETHER IN AN ACTION OF CONTRACT, TORT OR OTHERWISE, ARISING FROM,\n",
    "OUT OF OR IN CONNECTION WITH THE SOFTWARE OR THE USE OR OTHER DEALINGS IN THE\n",
    "SOFTWARE.\n"
   ]
  }
 ],
 "metadata": {
  "kernelspec": {
   "display_name": "Python 3",
   "language": "python",
   "name": "python3"
  },
  "language_info": {
   "codemirror_mode": {
    "name": "ipython",
    "version": 3
   },
   "file_extension": ".py",
   "mimetype": "text/x-python",
   "name": "python",
   "nbconvert_exporter": "python",
   "pygments_lexer": "ipython3",
   "version": "3.7.4"
  }
 },
 "nbformat": 4,
 "nbformat_minor": 4
}
